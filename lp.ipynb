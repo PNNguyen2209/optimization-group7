{
 "cells": [
  {
   "cell_type": "code",
   "execution_count": 1,
   "metadata": {},
   "outputs": [],
   "source": [
    "import pandas as pd\n",
    "from gerrychain import Graph\n",
    "from networkx import DiGraph\n",
    "import gurobipy as gp\n",
    "from gurobipy import GRB\n",
    "import math\n",
    "\n"
   ]
  },
  {
   "cell_type": "code",
   "execution_count": 2,
   "metadata": {},
   "outputs": [],
   "source": [
    "def read_matrix(filename):\n",
    "    df = pd.read_csv(filename, index_col=0)\n",
    "    edges = []\n",
    "    \n",
    "    for i, row in df.iterrows():\n",
    "        for j, value in row.items():\n",
    "            if value != 0:\n",
    "                edges.append((int(i), int(j), int(value)))\n",
    "\n",
    "    return edges"
   ]
  },
  {
   "cell_type": "code",
   "execution_count": 3,
   "metadata": {},
   "outputs": [],
   "source": [
    "def read_population(filename):\n",
    "    with open(filename, 'r') as file:\n",
    "        total_population = int(file.readline().strip().split('=')[-1])\n",
    "        data = []\n",
    "        for line in file:\n",
    "            parts = line.strip().split()\n",
    "            if len(parts) == 2:\n",
    "                identifier, population = int(parts[0]), int(parts[1])\n",
    "                data.append((identifier, population))\n",
    "            else:\n",
    "                print(f\"Unexpected line format: {line}\")\n",
    "    return total_population, data"
   ]
  },
  {
   "cell_type": "code",
   "execution_count": 5,
   "metadata": {},
   "outputs": [],
   "source": [
    "RI = 2\n",
    "edges = read_matrix('data/RI_distances.csv')\n",
    "#print(edges)\n",
    "total_population, population = read_population('data/RI.population')\n",
    "G = Graph()\n",
    "G.add_weighted_edges_from(edges)\n",
    "for (node, pop) in population:\n",
    "    #print(node)\n",
    "    G.nodes[node]['pop'] = pop\n",
    "    G.nodes[node]['name'] = node\n",
    "\n",
    "# DG = DiGraph(G)\n",
    "\n"
   ]
  },
  {
   "cell_type": "code",
   "execution_count": 90,
   "metadata": {},
   "outputs": [],
   "source": [
    "#weight = G.get_edge_data(0, 1)['weight']\n"
   ]
  },
  {
   "cell_type": "code",
   "execution_count": 125,
   "metadata": {},
   "outputs": [],
   "source": [
    "#weight = G.get_edge_data(0, 1)['population']\n",
    "#print(G.nodes[0]['population'])\n",
    "m = gp.Model()\n",
    "deviation = 0.02\n",
    "k = 2\n",
    "x = m.addVars( G.nodes, G.nodes, vtype=GRB.BINARY )\n",
    "L = math.ceil( ( 1 - deviation / 2 ) * total_population / k )\n",
    "U = math.floor( ( 1 + deviation / 2 ) * total_population / k )\n",
    "\n"
   ]
  },
  {
   "cell_type": "code",
   "execution_count": 126,
   "metadata": {},
   "outputs": [
    {
     "name": "stdout",
     "output_type": "stream",
     "text": [
      "None\n"
     ]
    }
   ],
   "source": [
    "print( G.get_edge_data(0, 0))"
   ]
  },
  {
   "cell_type": "code",
   "execution_count": 127,
   "metadata": {},
   "outputs": [],
   "source": [
    "dist = { (i,j) : 0 for i in G.nodes for j in G.nodes }\n",
    "for i in G.nodes:\n",
    "    for j in G.nodes:\n",
    "        #print(\"*\")\n",
    "        #print( G.get_edge_data(i, j)['weight'])\n",
    "        if G.get_edge_data(i, j) is not None:\n",
    "            dist[i,j] = G.get_edge_data(i, j)['weight']\n",
    "        \n",
    "#print(dist)\n",
    "#dist.values()\n",
    "    "
   ]
  },
  {
   "cell_type": "code",
   "execution_count": null,
   "metadata": {},
   "outputs": [],
   "source": []
  },
  {
   "cell_type": "code",
   "execution_count": 115,
   "metadata": {},
   "outputs": [],
   "source": [
    "# add constraints saying that each county i is assigned to one district\n"
   ]
  },
  {
   "cell_type": "code",
   "execution_count": 128,
   "metadata": {},
   "outputs": [],
   "source": [
    "m.setObjective( gp.quicksum( dist[i,j] * dist[i,j] * G.nodes[i]['pop'] * x[i,j] for i in G.nodes for j in G.nodes ), GRB.MINIMIZE )\n",
    "m.addConstrs( gp.quicksum( x[i,j] for j in G.nodes ) == 1 for i in G.nodes )\n",
    "m.addConstr( gp.quicksum( x[j,j] for j in G.nodes ) == k )\n",
    "\n",
    "# add constraints that say: if j roots a district, then its population is between L and U.\n",
    "m.addConstrs( gp.quicksum( G.nodes[i]['pop'] * x[i,j] for i in G.nodes ) >= L * x[j,j] for j in G.nodes )\n",
    "m.addConstrs( gp.quicksum( G.nodes[i]['pop'] * x[i,j] for i in G.nodes ) <= U * x[j,j] for j in G.nodes )\n",
    "# add coupling constraints saying that if i is assigned to j, then j is a center.\n",
    "m.addConstrs( x[i,j] <= x[j,j] for i in G.nodes for j in G.nodes )\n",
    "\n",
    "m.update()"
   ]
  },
  {
   "cell_type": "code",
   "execution_count": 129,
   "metadata": {},
   "outputs": [
    {
     "name": "stdout",
     "output_type": "stream",
     "text": [
      "Set parameter MIPGap to value 0\n",
      "Gurobi Optimizer version 11.0.1 build v11.0.1rc0 (mac64[rosetta2] - Darwin 21.4.0 21E230)\n",
      "\n",
      "CPU model: Apple M1\n",
      "Thread count: 8 physical cores, 8 logical processors, using up to 8 threads\n",
      "\n",
      "Optimize a model with 63251 rows, 62500 columns and 310258 nonzeros\n",
      "Model fingerprint: 0xd17439f3\n",
      "Variable types: 0 continuous, 62500 integer (62500 binary)\n",
      "Coefficient statistics:\n",
      "  Matrix range     [1e+00, 6e+05]\n",
      "  Objective range  [1e+03, 6e+07]\n",
      "  Bounds range     [1e+00, 1e+00]\n",
      "  RHS range        [1e+00, 2e+00]\n",
      "Presolve removed 250 rows and 0 columns\n",
      "Presolve time: 0.66s\n",
      "Presolved: 63001 rows, 62500 columns, 310258 nonzeros\n",
      "Variable types: 0 continuous, 62500 integer (62500 binary)\n",
      "Found heuristic solution: objective 3.823956e+08\n",
      "Deterministic concurrent LP optimizer: primal and dual simplex\n",
      "Showing primal log only...\n",
      "\n",
      "Concurrent spin time: 0.11s\n",
      "\n",
      "Solved with dual simplex\n",
      "\n",
      "Root relaxation: objective 2.374514e+08, 26530 iterations, 3.87 seconds (8.13 work units)\n",
      "\n",
      "    Nodes    |    Current Node    |     Objective Bounds      |     Work\n",
      " Expl Unexpl |  Obj  Depth IntInf | Incumbent    BestBd   Gap | It/Node Time\n",
      "\n",
      "     0     0 2.3745e+08    0    2 3.8240e+08 2.3745e+08  37.9%     -    4s\n",
      "H    0     0                    2.384115e+08 2.3745e+08  0.40%     -    5s\n",
      "H    0     0                    2.379490e+08 2.3745e+08  0.21%     -    5s\n",
      "H    0     0                    2.378023e+08 2.3745e+08  0.15%     -    5s\n",
      "H    0     0                    2.376318e+08 2.3745e+08  0.08%     -    5s\n",
      "     0     0 2.3745e+08    0    2 2.3763e+08 2.3745e+08  0.08%     -    5s\n",
      "     0     0 2.3745e+08    0    1 2.3763e+08 2.3745e+08  0.08%     -    5s\n",
      "\n",
      "Cutting planes:\n",
      "  Cover: 1\n",
      "\n",
      "Explored 1 nodes (26533 simplex iterations) in 5.71 seconds (9.71 work units)\n",
      "Thread count was 8 (of 8 available processors)\n",
      "\n",
      "Solution count 7: 2.37632e+08 2.37802e+08 2.37802e+08 ... 3.82396e+08\n",
      "\n",
      "Optimal solution found (tolerance 0.00e+00)\n",
      "Best objective 2.376317660000e+08, best bound 2.376317660000e+08, gap 0.0000%\n"
     ]
    }
   ],
   "source": [
    "# solve, making sure to set a 0.00% MIP gap tolerance\n",
    "m.Params.MIPGap = 0.0\n",
    "\n",
    "m.optimize()"
   ]
  },
  {
   "cell_type": "code",
   "execution_count": 130,
   "metadata": {},
   "outputs": [],
   "source": [
    "centers = [ j for j in G.nodes if x[j,j].x > 0.5 ]\n",
    "\n",
    "districts = [ [ i for i in G.nodes if x[i,j].x > 0.5 ] for j in centers ]\n",
    "district_populations = [ sum(G.nodes[i][\"pop\"] for i in districts[j]) for j in range(k) ]\n",
    "district_counties = [ [ G.nodes[i]['name'] for i in districts[j] ] for j in range(k)]\n",
    "\n",
    "\n"
   ]
  },
  {
   "cell_type": "code",
   "execution_count": 131,
   "metadata": {},
   "outputs": [
    {
     "name": "stdout",
     "output_type": "stream",
     "text": [
      "Centers:  [73, 93]\n",
      "Districts:  [[0, 1, 2, 3, 4, 5, 6, 8, 9, 10, 11, 12, 13, 14, 15, 16, 17, 18, 19, 20, 21, 22, 23, 24, 25, 26, 27, 28, 29, 30, 31, 32, 33, 34, 35, 36, 37, 38, 39, 40, 41, 42, 43, 44, 45, 46, 47, 48, 49, 50, 51, 52, 53, 54, 55, 56, 57, 58, 59, 60, 61, 69, 70, 71, 72, 73, 74, 75, 76, 77, 83, 84, 85, 86, 87, 89, 96, 97, 98, 114, 115, 121, 129, 138, 161, 162, 168, 170, 172, 181, 188, 197, 198, 207, 208, 209, 210, 211, 212, 213, 214, 215, 216, 217, 218, 221, 222, 223, 224, 225, 226, 227, 228, 229, 230, 231, 232, 233, 234, 235, 237, 238, 239, 243], [7, 62, 63, 64, 65, 66, 67, 68, 78, 79, 80, 81, 82, 88, 90, 91, 92, 93, 94, 95, 99, 100, 101, 102, 103, 104, 105, 106, 107, 108, 109, 110, 111, 112, 113, 116, 117, 118, 119, 120, 122, 123, 124, 125, 126, 127, 128, 130, 131, 132, 133, 134, 135, 136, 137, 139, 140, 141, 142, 143, 144, 145, 146, 147, 148, 149, 150, 151, 152, 153, 154, 155, 156, 157, 158, 159, 160, 163, 164, 165, 166, 167, 169, 171, 173, 174, 175, 176, 177, 178, 179, 180, 182, 183, 184, 185, 186, 187, 189, 190, 191, 192, 193, 194, 195, 196, 199, 200, 201, 202, 203, 204, 205, 206, 219, 220, 236, 240, 241, 242, 244, 245, 246, 247, 248, 249]]\n",
      "District pops [543446, 553933]\n",
      "District counties:  [[0, 1, 2, 3, 4, 5, 6, 8, 9, 10, 11, 12, 13, 14, 15, 16, 17, 18, 19, 20, 21, 22, 23, 24, 25, 26, 27, 28, 29, 30, 31, 32, 33, 34, 35, 36, 37, 38, 39, 40, 41, 42, 43, 44, 45, 46, 47, 48, 49, 50, 51, 52, 53, 54, 55, 56, 57, 58, 59, 60, 61, 69, 70, 71, 72, 73, 74, 75, 76, 77, 83, 84, 85, 86, 87, 89, 96, 97, 98, 114, 115, 121, 129, 138, 161, 162, 168, 170, 172, 181, 188, 197, 198, 207, 208, 209, 210, 211, 212, 213, 214, 215, 216, 217, 218, 221, 222, 223, 224, 225, 226, 227, 228, 229, 230, 231, 232, 233, 234, 235, 237, 238, 239, 243], [7, 62, 63, 64, 65, 66, 67, 68, 78, 79, 80, 81, 82, 88, 90, 91, 92, 93, 94, 95, 99, 100, 101, 102, 103, 104, 105, 106, 107, 108, 109, 110, 111, 112, 113, 116, 117, 118, 119, 120, 122, 123, 124, 125, 126, 127, 128, 130, 131, 132, 133, 134, 135, 136, 137, 139, 140, 141, 142, 143, 144, 145, 146, 147, 148, 149, 150, 151, 152, 153, 154, 155, 156, 157, 158, 159, 160, 163, 164, 165, 166, 167, 169, 171, 173, 174, 175, 176, 177, 178, 179, 180, 182, 183, 184, 185, 186, 187, 189, 190, 191, 192, 193, 194, 195, 196, 199, 200, 201, 202, 203, 204, 205, 206, 219, 220, 236, 240, 241, 242, 244, 245, 246, 247, 248, 249]]\n"
     ]
    }
   ],
   "source": [
    "print(\"Centers: \",centers)\n",
    "print(\"Districts: \",districts)\n",
    "print(\"District pops\" ,district_populations)\n",
    "print(\"District counties: \",district_counties)\n"
   ]
  },
  {
   "cell_type": "code",
   "execution_count": 132,
   "metadata": {},
   "outputs": [
    {
     "name": "stdout",
     "output_type": "stream",
     "text": [
      "district 0 contains counties [0, 1, 2, 3, 4, 5, 6, 8, 9, 10, 11, 12, 13, 14, 15, 16, 17, 18, 19, 20, 21, 22, 23, 24, 25, 26, 27, 28, 29, 30, 31, 32, 33, 34, 35, 36, 37, 38, 39, 40, 41, 42, 43, 44, 45, 46, 47, 48, 49, 50, 51, 52, 53, 54, 55, 56, 57, 58, 59, 60, 61, 69, 70, 71, 72, 73, 74, 75, 76, 77, 83, 84, 85, 86, 87, 89, 96, 97, 98, 114, 115, 121, 129, 138, 161, 162, 168, 170, 172, 181, 188, 197, 198, 207, 208, 209, 210, 211, 212, 213, 214, 215, 216, 217, 218, 221, 222, 223, 224, 225, 226, 227, 228, 229, 230, 231, 232, 233, 234, 235, 237, 238, 239, 243] with pop average 543446\n",
      "district 1 contains counties [7, 62, 63, 64, 65, 66, 67, 68, 78, 79, 80, 81, 82, 88, 90, 91, 92, 93, 94, 95, 99, 100, 101, 102, 103, 104, 105, 106, 107, 108, 109, 110, 111, 112, 113, 116, 117, 118, 119, 120, 122, 123, 124, 125, 126, 127, 128, 130, 131, 132, 133, 134, 135, 136, 137, 139, 140, 141, 142, 143, 144, 145, 146, 147, 148, 149, 150, 151, 152, 153, 154, 155, 156, 157, 158, 159, 160, 163, 164, 165, 166, 167, 169, 171, 173, 174, 175, 176, 177, 178, 179, 180, 182, 183, 184, 185, 186, 187, 189, 190, 191, 192, 193, 194, 195, 196, 199, 200, 201, 202, 203, 204, 205, 206, 219, 220, 236, 240, 241, 242, 244, 245, 246, 247, 248, 249] with pop average 553933\n"
     ]
    }
   ],
   "source": [
    "for i in range(0,k):\n",
    "    print(f\"district {i} contains counties {district_counties[i]} with pop average {district_populations[i]}\")"
   ]
  },
  {
   "cell_type": "code",
   "execution_count": null,
   "metadata": {},
   "outputs": [],
   "source": []
  },
  {
   "cell_type": "code",
   "execution_count": null,
   "metadata": {},
   "outputs": [],
   "source": []
  }
 ],
 "metadata": {
  "kernelspec": {
   "display_name": "Python 3",
   "language": "python",
   "name": "python3"
  },
  "language_info": {
   "codemirror_mode": {
    "name": "ipython",
    "version": 3
   },
   "file_extension": ".py",
   "mimetype": "text/x-python",
   "name": "python",
   "nbconvert_exporter": "python",
   "pygments_lexer": "ipython3",
   "version": "3.9.5"
  }
 },
 "nbformat": 4,
 "nbformat_minor": 2
}
